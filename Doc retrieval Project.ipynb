{
 "cells": [
  {
   "cell_type": "code",
   "execution_count": 1,
   "id": "680870da",
   "metadata": {},
   "outputs": [],
   "source": [
    "import pandas as pd\n",
    "import numpy as np\n",
    "\n",
    "import warnings\n",
    "warnings.filterwarnings('ignore')"
   ]
  },
  {
   "cell_type": "code",
   "execution_count": 2,
   "id": "2db4a3bd",
   "metadata": {},
   "outputs": [],
   "source": [
    "df=pd.read_json('combined.json',lines=True)"
   ]
  },
  {
   "cell_type": "code",
   "execution_count": 3,
   "id": "b87ea7a6",
   "metadata": {},
   "outputs": [
    {
     "data": {
      "text/html": [
       "<div>\n",
       "<style scoped>\n",
       "    .dataframe tbody tr th:only-of-type {\n",
       "        vertical-align: middle;\n",
       "    }\n",
       "\n",
       "    .dataframe tbody tr th {\n",
       "        vertical-align: top;\n",
       "    }\n",
       "\n",
       "    .dataframe thead th {\n",
       "        text-align: right;\n",
       "    }\n",
       "</style>\n",
       "<table border=\"1\" class=\"dataframe\">\n",
       "  <thead>\n",
       "    <tr style=\"text-align: right;\">\n",
       "      <th></th>\n",
       "      <th>id</th>\n",
       "      <th>title</th>\n",
       "      <th>contents</th>\n",
       "      <th>date</th>\n",
       "      <th>topics</th>\n",
       "      <th>components</th>\n",
       "    </tr>\n",
       "  </thead>\n",
       "  <tbody>\n",
       "    <tr>\n",
       "      <th>0</th>\n",
       "      <td>None</td>\n",
       "      <td>Convicted Bomb Plotter Sentenced to 30 Years</td>\n",
       "      <td>PORTLAND, Oregon. – Mohamed Osman Mohamud, 23,...</td>\n",
       "      <td>2014-10-01T00:00:00-04:00</td>\n",
       "      <td>[]</td>\n",
       "      <td>[National Security Division (NSD)]</td>\n",
       "    </tr>\n",
       "    <tr>\n",
       "      <th>1</th>\n",
       "      <td>12-919</td>\n",
       "      <td>$1 Million in Restitution Payments Announced t...</td>\n",
       "      <td>WASHINGTON – North Carolina’s Waccamaw River...</td>\n",
       "      <td>2012-07-25T00:00:00-04:00</td>\n",
       "      <td>[]</td>\n",
       "      <td>[Environment and Natural Resources Division]</td>\n",
       "    </tr>\n",
       "    <tr>\n",
       "      <th>2</th>\n",
       "      <td>11-1002</td>\n",
       "      <td>$1 Million Settlement Reached for Natural Reso...</td>\n",
       "      <td>BOSTON– A $1-million settlement has been...</td>\n",
       "      <td>2011-08-03T00:00:00-04:00</td>\n",
       "      <td>[]</td>\n",
       "      <td>[Environment and Natural Resources Division]</td>\n",
       "    </tr>\n",
       "    <tr>\n",
       "      <th>3</th>\n",
       "      <td>10-015</td>\n",
       "      <td>10 Las Vegas Men Indicted \\r\\nfor Falsifying V...</td>\n",
       "      <td>WASHINGTON—A federal grand jury in Las Vegas...</td>\n",
       "      <td>2010-01-08T00:00:00-05:00</td>\n",
       "      <td>[]</td>\n",
       "      <td>[Environment and Natural Resources Division]</td>\n",
       "    </tr>\n",
       "    <tr>\n",
       "      <th>4</th>\n",
       "      <td>18-898</td>\n",
       "      <td>$100 Million Settlement Will Speed Cleanup Wor...</td>\n",
       "      <td>The U.S. Department of Justice, the U.S. Envir...</td>\n",
       "      <td>2018-07-09T00:00:00-04:00</td>\n",
       "      <td>[Environment]</td>\n",
       "      <td>[Environment and Natural Resources Division]</td>\n",
       "    </tr>\n",
       "  </tbody>\n",
       "</table>\n",
       "</div>"
      ],
      "text/plain": [
       "        id                                              title  \\\n",
       "0     None       Convicted Bomb Plotter Sentenced to 30 Years   \n",
       "1  12-919   $1 Million in Restitution Payments Announced t...   \n",
       "2  11-1002  $1 Million Settlement Reached for Natural Reso...   \n",
       "3   10-015  10 Las Vegas Men Indicted \\r\\nfor Falsifying V...   \n",
       "4   18-898  $100 Million Settlement Will Speed Cleanup Wor...   \n",
       "\n",
       "                                            contents  \\\n",
       "0  PORTLAND, Oregon. – Mohamed Osman Mohamud, 23,...   \n",
       "1    WASHINGTON – North Carolina’s Waccamaw River...   \n",
       "2        BOSTON– A $1-million settlement has been...   \n",
       "3    WASHINGTON—A federal grand jury in Las Vegas...   \n",
       "4  The U.S. Department of Justice, the U.S. Envir...   \n",
       "\n",
       "                        date         topics  \\\n",
       "0  2014-10-01T00:00:00-04:00             []   \n",
       "1  2012-07-25T00:00:00-04:00             []   \n",
       "2  2011-08-03T00:00:00-04:00             []   \n",
       "3  2010-01-08T00:00:00-05:00             []   \n",
       "4  2018-07-09T00:00:00-04:00  [Environment]   \n",
       "\n",
       "                                     components  \n",
       "0            [National Security Division (NSD)]  \n",
       "1  [Environment and Natural Resources Division]  \n",
       "2  [Environment and Natural Resources Division]  \n",
       "3  [Environment and Natural Resources Division]  \n",
       "4  [Environment and Natural Resources Division]  "
      ]
     },
     "execution_count": 3,
     "metadata": {},
     "output_type": "execute_result"
    }
   ],
   "source": [
    "df.head()"
   ]
  },
  {
   "cell_type": "code",
   "execution_count": 4,
   "id": "d3684dc7",
   "metadata": {},
   "outputs": [
    {
     "data": {
      "text/plain": [
       "(13087, 6)"
      ]
     },
     "execution_count": 4,
     "metadata": {},
     "output_type": "execute_result"
    }
   ],
   "source": [
    "df.shape"
   ]
  },
  {
   "cell_type": "code",
   "execution_count": 5,
   "id": "9d855aca",
   "metadata": {},
   "outputs": [
    {
     "data": {
      "text/plain": [
       "0                                                       []\n",
       "1                                                       []\n",
       "2                                                       []\n",
       "3                                                       []\n",
       "4                                            [Environment]\n",
       "                               ...                        \n",
       "13082                                        [Environment]\n",
       "13083                                                   []\n",
       "13084                                 [Foreign Corruption]\n",
       "13085    [Asset Forfeiture, Counterintelligence and Exp...\n",
       "13086             [Counterintelligence and Export Control]\n",
       "Name: topics, Length: 13087, dtype: object"
      ]
     },
     "execution_count": 5,
     "metadata": {},
     "output_type": "execute_result"
    }
   ],
   "source": [
    "df['topics']"
   ]
  },
  {
   "cell_type": "code",
   "execution_count": 6,
   "id": "6a2ebe4c",
   "metadata": {},
   "outputs": [
    {
     "data": {
      "text/plain": [
       "4                                            [Environment]\n",
       "7                                    [Consumer Protection]\n",
       "19                                           [Environment]\n",
       "22                   [False Claims Act, Health Care Fraud]\n",
       "23                   [Health Care Fraud, False Claims Act]\n",
       "                               ...                        \n",
       "13081                                        [Hate Crimes]\n",
       "13082                                        [Environment]\n",
       "13084                                 [Foreign Corruption]\n",
       "13085    [Asset Forfeiture, Counterintelligence and Exp...\n",
       "13086             [Counterintelligence and Export Control]\n",
       "Name: topics, Length: 4688, dtype: object"
      ]
     },
     "execution_count": 6,
     "metadata": {},
     "output_type": "execute_result"
    }
   ],
   "source": [
    "#topics column seems to be having some empty list values, those rows can be filtered\n",
    "df=df[df['topics'].str.len()!=0]\n",
    "df['topics'] "
   ]
  },
  {
   "cell_type": "code",
   "execution_count": 7,
   "id": "0d073567",
   "metadata": {},
   "outputs": [
    {
     "data": {
      "text/plain": [
       "4             [Environment and Natural Resources Division]\n",
       "7                                         [Civil Division]\n",
       "19       [Environment and Natural Resources Division, U...\n",
       "22                                        [Civil Division]\n",
       "23                [Civil Division, USAO - Florida, Middle]\n",
       "                               ...                        \n",
       "13081    [Civil Rights Division, Civil Rights - Crimina...\n",
       "13082         [Environment and Natural Resources Division]\n",
       "13084    [Criminal Division, Criminal - Criminal Fraud ...\n",
       "13085    [National Security Division (NSD), USAO - Texa...\n",
       "13086    [National Security Division (NSD), USAO - Texa...\n",
       "Name: components, Length: 4688, dtype: object"
      ]
     },
     "execution_count": 7,
     "metadata": {},
     "output_type": "execute_result"
    }
   ],
   "source": [
    "df['components']"
   ]
  },
  {
   "cell_type": "code",
   "execution_count": 8,
   "id": "9c275b2f",
   "metadata": {},
   "outputs": [],
   "source": [
    "df=df.drop(['id','date','components'],axis='columns')"
   ]
  },
  {
   "cell_type": "code",
   "execution_count": 9,
   "id": "cd09a5f8",
   "metadata": {},
   "outputs": [
    {
     "data": {
      "text/html": [
       "<div>\n",
       "<style scoped>\n",
       "    .dataframe tbody tr th:only-of-type {\n",
       "        vertical-align: middle;\n",
       "    }\n",
       "\n",
       "    .dataframe tbody tr th {\n",
       "        vertical-align: top;\n",
       "    }\n",
       "\n",
       "    .dataframe thead th {\n",
       "        text-align: right;\n",
       "    }\n",
       "</style>\n",
       "<table border=\"1\" class=\"dataframe\">\n",
       "  <thead>\n",
       "    <tr style=\"text-align: right;\">\n",
       "      <th></th>\n",
       "      <th>title</th>\n",
       "      <th>contents</th>\n",
       "      <th>topics</th>\n",
       "    </tr>\n",
       "  </thead>\n",
       "  <tbody>\n",
       "    <tr>\n",
       "      <th>4</th>\n",
       "      <td>$100 Million Settlement Will Speed Cleanup Wor...</td>\n",
       "      <td>The U.S. Department of Justice, the U.S. Envir...</td>\n",
       "      <td>[Environment]</td>\n",
       "    </tr>\n",
       "    <tr>\n",
       "      <th>7</th>\n",
       "      <td>14 Indicted in Connection with New England Com...</td>\n",
       "      <td>A 131-count criminal indictment was unsealed t...</td>\n",
       "      <td>[Consumer Protection]</td>\n",
       "    </tr>\n",
       "    <tr>\n",
       "      <th>19</th>\n",
       "      <td>2017 Southeast Regional Animal Cruelty Prosecu...</td>\n",
       "      <td>The United States Attorney’s Office for the Mi...</td>\n",
       "      <td>[Environment]</td>\n",
       "    </tr>\n",
       "    <tr>\n",
       "      <th>22</th>\n",
       "      <td>21st Century Oncology to Pay $19.75 Million to...</td>\n",
       "      <td>21st Century Oncology LLC, has agreed to pay $...</td>\n",
       "      <td>[False Claims Act, Health Care Fraud]</td>\n",
       "    </tr>\n",
       "    <tr>\n",
       "      <th>23</th>\n",
       "      <td>21st Century Oncology to Pay $26 Million to Se...</td>\n",
       "      <td>21st Century Oncology Inc. and certain of its ...</td>\n",
       "      <td>[Health Care Fraud, False Claims Act]</td>\n",
       "    </tr>\n",
       "  </tbody>\n",
       "</table>\n",
       "</div>"
      ],
      "text/plain": [
       "                                                title  \\\n",
       "4   $100 Million Settlement Will Speed Cleanup Wor...   \n",
       "7   14 Indicted in Connection with New England Com...   \n",
       "19  2017 Southeast Regional Animal Cruelty Prosecu...   \n",
       "22  21st Century Oncology to Pay $19.75 Million to...   \n",
       "23  21st Century Oncology to Pay $26 Million to Se...   \n",
       "\n",
       "                                             contents  \\\n",
       "4   The U.S. Department of Justice, the U.S. Envir...   \n",
       "7   A 131-count criminal indictment was unsealed t...   \n",
       "19  The United States Attorney’s Office for the Mi...   \n",
       "22  21st Century Oncology LLC, has agreed to pay $...   \n",
       "23  21st Century Oncology Inc. and certain of its ...   \n",
       "\n",
       "                                   topics  \n",
       "4                           [Environment]  \n",
       "7                   [Consumer Protection]  \n",
       "19                          [Environment]  \n",
       "22  [False Claims Act, Health Care Fraud]  \n",
       "23  [Health Care Fraud, False Claims Act]  "
      ]
     },
     "execution_count": 9,
     "metadata": {},
     "output_type": "execute_result"
    }
   ],
   "source": [
    "df.head()"
   ]
  },
  {
   "cell_type": "code",
   "execution_count": 10,
   "id": "459846ec",
   "metadata": {},
   "outputs": [
    {
     "data": {
      "text/plain": [
       "(4688, 3)"
      ]
     },
     "execution_count": 10,
     "metadata": {},
     "output_type": "execute_result"
    }
   ],
   "source": [
    "df.shape"
   ]
  },
  {
   "cell_type": "code",
   "execution_count": 11,
   "id": "f99b4a3b",
   "metadata": {},
   "outputs": [
    {
     "data": {
      "text/plain": [
       "4                            Environment\n",
       "7                    Consumer Protection\n",
       "19                           Environment\n",
       "22    False Claims Act Health Care Fraud\n",
       "23    Health Care Fraud False Claims Act\n",
       "Name: topics, dtype: object"
      ]
     },
     "execution_count": 11,
     "metadata": {},
     "output_type": "execute_result"
    }
   ],
   "source": [
    "#converting the list values in topics to strings\n",
    "df['topics']=df['topics'].apply(lambda x: ' '.join(x))\n",
    "df['topics'].head()"
   ]
  },
  {
   "cell_type": "code",
   "execution_count": 12,
   "id": "04c294b6",
   "metadata": {},
   "outputs": [],
   "source": [
    "titles=df['title'].tolist()\n",
    "contents=df['contents'].tolist()\n",
    "topics=df['topics'].tolist()"
   ]
  },
  {
   "cell_type": "code",
   "execution_count": 13,
   "id": "09823338",
   "metadata": {},
   "outputs": [],
   "source": [
    "from sklearn.feature_extraction.text import TfidfVectorizer\n",
    "v=TfidfVectorizer(stop_words='english')"
   ]
  },
  {
   "cell_type": "code",
   "execution_count": 14,
   "id": "97731e8b",
   "metadata": {},
   "outputs": [],
   "source": [
    "from sklearn.metrics.pairwise import cosine_similarity"
   ]
  },
  {
   "cell_type": "code",
   "execution_count": 15,
   "id": "059fa670",
   "metadata": {},
   "outputs": [
    {
     "data": {
      "text/plain": [
       "(4688, 37899)"
      ]
     },
     "execution_count": 15,
     "metadata": {},
     "output_type": "execute_result"
    }
   ],
   "source": [
    "#transform the content to vector\n",
    "tfidf_matrix=v.fit_transform(contents)\n",
    "tfidf_matrix.shape"
   ]
  },
  {
   "cell_type": "code",
   "execution_count": 16,
   "id": "87f1d3eb",
   "metadata": {},
   "outputs": [],
   "source": [
    "def search(query):\n",
    "    #transform the input to a vector\n",
    "    input_vector=v.transform([query])\n",
    "    \n",
    "    #comparing the similarites between input vector and content vector\n",
    "    similarities=cosine_similarity(input_vector,tfidf_matrix)\n",
    "    \n",
    "    #getting the top 10 similarities\n",
    "    top_10=np.argsort(similarities[0])[-10:][::-1]\n",
    "    top_results=[(titles[i],topics[i],similarities[0][i]) for i in top_10]\n",
    "    result_df = pd.DataFrame(top_results, columns=['Title','Topic','Similarity Score'])\n",
    "    return result_df"
   ]
  },
  {
   "cell_type": "code",
   "execution_count": 17,
   "id": "189fde60",
   "metadata": {},
   "outputs": [
    {
     "data": {
      "text/plain": [
       "\"The U.S. Department of Justice, the U.S. Environmental Protection Agency (EPA), and the Rhode Island Department of Environmental Management (RIDEM) announced today that two subsidiaries of Stanley Black & Decker Inc.—Emhart Industries Inc. and Black & Decker Inc.—have agreed to clean up dioxin contaminated sediment and soil at the Centredale Manor Restoration Project Superfund Site in North Providence and Johnston, Rhode Island.\\xa0 “We are pleased to reach a resolution through collaborative work with the responsible parties, EPA, and other stakeholders,” said\\xa0Acting Assistant Attorney General Jeffrey H. Wood for the Justice Department's\\xa0Environment and Natural Resources Division . “Today’s settlement ends protracted litigation and allows for important work to get underway to restore a healthy environment for citizens living in and around the Centredale Manor Site and the Woonasquatucket River.” “This settlement demonstrates the tremendous progress we are achieving working with responsible parties, states, and our federal partners to expedite sites through the entire Superfund remediation process,” said EPA Acting Administrator Andrew Wheeler. “The Centredale Manor Site has been on the National Priorities List for 18 years; we are taking charge and ensuring the Agency makes good on its promise to clean it up for the betterment of the environment and those communities affected.” “Successfully concluding this settlement paves the way for EPA to make good on our commitment to aggressively pursue cleaning up the Centredale Manor Superfund Site,” said EPA New England Regional Administrator Alexandra Dunn. “We are excited to get to work on the cleanup at this site, and get it closer to the goal of being fully utilized by the North Providence and Johnston communities.” “We are pleased that the collective efforts of the State of Rhode Island, EPA, and DOJ in these negotiations have concluded in this major milestone toward the cleanup of the Centredale Manor Restoration Superfund site and are consistent with our long-standing efforts to make the polluter pay,” said RIDEM Director Janet Coit. “The settlement will speed up a remedy that protects public health and the river environment, and moves us closer to the day that we can reclaim recreational uses of this beautiful river resource.” The settlement, which includes cleanup work in the Woonasquatucket River (River) and bordering residential and commercial properties along the River, requires the companies to perform the remedy selected by EPA for the Site in 2012, which is estimated to cost approximately $100 million, and resolves longstanding litigation. The cleanup remedy includes excavation of contaminated sediment and floodplain soil from the Woonasquatucket River, including from adjacent residential properties. Once the cleanup remedy is completed, full access to the Woonasquatucket River should be restored for local citizens. The cleanup will be a step toward the State’s goal of a fishable and swimmable river. The work will also include upgrading caps over contaminated soil in the peninsula area of the Site that currently house two high-rise apartment buildings. The settlement also ensures that the long-term monitoring and maintenance of the site, as directed in the remedy, will be implemented to ensure that public health is protected.\\xa0 Under the settlement, Emhart and Black & Decker will reimburse EPA for approximately $42 million in past costs incurred at the Site. The companies will also reimburse EPA and the State of Rhode Island for future costs incurred by those agencies in overseeing the work required by the settlement. The settlement will also include payments on behalf of two federal agencies to resolve claims against those agencies. These payments, along with prior settlements related to the Site, will result in a 100 percent recovery for the United States of its past and future response costs related to the Site. Litigation related to the Site has been ongoing for nearly eight years. While the Federal District Court found Black & Decker and Emhart to be liable for their hazardous waste and responsible to conduct the cleanup of the Site, it had also ruled that EPA needed to reconsider certain aspects of that cleanup. EPA appealed the decision requiring it to reconsider aspects of the cleanup. This settlement, once entered by the District Court, will resolve the litigation between the United States, Rhode Island, and Emhart and Black and Decker, allowing the cleanup of the Site to begin. The Site spans a one and a half mile stretch of the Woonasquatucket River and encompasses a nine-acre peninsula, two ponds and a significant forested wetland. From the 1940s to the early 1970s, Emhart’s predecessor operated a chemical manufacturing facility on the peninsula and used a raw material that was contaminated with 2,3,7,8-tetrachlorodibenzo-p-dioxin, a toxic form of dioxin. The Site property was also previously used by a barrel refurbisher. Elevated levels of dioxins and other contaminants have been detected in soil, groundwater, sediment, surface water and fish.\\xa0 The Site was added to the National Priorities List (NPL) in 2000, and in December 2017, EPA included the Centredale Manor Restoration Project Superfund Site on a list of Superfund sites targeted for immediate and intense attention. Several short-term actions were previously performed at the Site to address immediate threats to the residents and minimize potential erosion and downstream transport of contaminated soil and sediment. This settlement is the latest agreement EPA has reached since the Site was listed on the NPL. Prior agreements addressed the performance and recovery of costs for the past environmental investigations and interim cleanup actions from Emhart, the barrel reconditioning company, the current owners of the peninsula portion of the Site, and other potentially responsible parties. The Consent Decree, lodged in the U.S. District Court of Rhode Island, will be posted in the Federal Register and available for public comment for a period of 30 days. The Consent Decree can be viewed on the Justice Department website:\\xa0www.justice.gov/enrd/Consent_Decrees.html.\\xa0 EPA information on the Centredale Manor Superfund Site:\\xa0www.epa.gov/superfund/centredale.\""
      ]
     },
     "execution_count": 17,
     "metadata": {},
     "output_type": "execute_result"
    }
   ],
   "source": [
    "df['contents'].iloc[0]"
   ]
  },
  {
   "cell_type": "code",
   "execution_count": 18,
   "id": "b20059d9",
   "metadata": {},
   "outputs": [
    {
     "data": {
      "text/plain": [
       "'$100 Million Settlement Will Speed Cleanup Work at Centredale Manor Superfund Site in North Providence, R.I.'"
      ]
     },
     "execution_count": 18,
     "metadata": {},
     "output_type": "execute_result"
    }
   ],
   "source": [
    "df['title'].iloc[0] #the title of the above case"
   ]
  },
  {
   "cell_type": "markdown",
   "id": "c28ef6a1",
   "metadata": {},
   "source": [
    "From the above case story,assume if a person is aware only about the fact that some cleanup work was done in Woonasquatucket river and tries to search more details about the case"
   ]
  },
  {
   "cell_type": "code",
   "execution_count": 24,
   "id": "bd736dd9",
   "metadata": {},
   "outputs": [
    {
     "data": {
      "text/html": [
       "<div>\n",
       "<style scoped>\n",
       "    .dataframe tbody tr th:only-of-type {\n",
       "        vertical-align: middle;\n",
       "    }\n",
       "\n",
       "    .dataframe tbody tr th {\n",
       "        vertical-align: top;\n",
       "    }\n",
       "\n",
       "    .dataframe thead th {\n",
       "        text-align: right;\n",
       "    }\n",
       "</style>\n",
       "<table border=\"1\" class=\"dataframe\">\n",
       "  <thead>\n",
       "    <tr style=\"text-align: right;\">\n",
       "      <th></th>\n",
       "      <th>Title</th>\n",
       "      <th>Topic</th>\n",
       "      <th>Similarity Score</th>\n",
       "    </tr>\n",
       "  </thead>\n",
       "  <tbody>\n",
       "    <tr>\n",
       "      <th>0</th>\n",
       "      <td>$100 Million Settlement Will Speed Cleanup Wor...</td>\n",
       "      <td>Environment</td>\n",
       "      <td>0.375127</td>\n",
       "    </tr>\n",
       "    <tr>\n",
       "      <th>1</th>\n",
       "      <td>NCR Corporation Agrees to End Litigation and C...</td>\n",
       "      <td>Environment</td>\n",
       "      <td>0.296898</td>\n",
       "    </tr>\n",
       "    <tr>\n",
       "      <th>2</th>\n",
       "      <td>Justice Department, EPA and the State of New M...</td>\n",
       "      <td>Environment</td>\n",
       "      <td>0.249354</td>\n",
       "    </tr>\n",
       "    <tr>\n",
       "      <th>3</th>\n",
       "      <td>Charles River Laboratories International Inc. ...</td>\n",
       "      <td>Health Care Fraud</td>\n",
       "      <td>0.185940</td>\n",
       "    </tr>\n",
       "    <tr>\n",
       "      <th>4</th>\n",
       "      <td>Department Of Justice, EPA Reach Agreement Wit...</td>\n",
       "      <td>Environment</td>\n",
       "      <td>0.148875</td>\n",
       "    </tr>\n",
       "    <tr>\n",
       "      <th>5</th>\n",
       "      <td>Department of Justice and EPA Announce $50 Mil...</td>\n",
       "      <td>Environment</td>\n",
       "      <td>0.146511</td>\n",
       "    </tr>\n",
       "    <tr>\n",
       "      <th>6</th>\n",
       "      <td>Department of Justice and EPA Announce $29 Mil...</td>\n",
       "      <td>Environment</td>\n",
       "      <td>0.141136</td>\n",
       "    </tr>\n",
       "    <tr>\n",
       "      <th>7</th>\n",
       "      <td>Federal and State Trustees Reach $4.5 Million ...</td>\n",
       "      <td>Environment</td>\n",
       "      <td>0.138079</td>\n",
       "    </tr>\n",
       "    <tr>\n",
       "      <th>8</th>\n",
       "      <td>Public and Environment to Benefit from Propose...</td>\n",
       "      <td>Environment</td>\n",
       "      <td>0.130727</td>\n",
       "    </tr>\n",
       "    <tr>\n",
       "      <th>9</th>\n",
       "      <td>United States Files Suit Against Savannah Rive...</td>\n",
       "      <td>False Claims Act</td>\n",
       "      <td>0.125090</td>\n",
       "    </tr>\n",
       "  </tbody>\n",
       "</table>\n",
       "</div>"
      ],
      "text/plain": [
       "                                               Title              Topic  \\\n",
       "0  $100 Million Settlement Will Speed Cleanup Wor...        Environment   \n",
       "1  NCR Corporation Agrees to End Litigation and C...        Environment   \n",
       "2  Justice Department, EPA and the State of New M...        Environment   \n",
       "3  Charles River Laboratories International Inc. ...  Health Care Fraud   \n",
       "4  Department Of Justice, EPA Reach Agreement Wit...        Environment   \n",
       "5  Department of Justice and EPA Announce $50 Mil...        Environment   \n",
       "6  Department of Justice and EPA Announce $29 Mil...        Environment   \n",
       "7  Federal and State Trustees Reach $4.5 Million ...        Environment   \n",
       "8  Public and Environment to Benefit from Propose...        Environment   \n",
       "9  United States Files Suit Against Savannah Rive...   False Claims Act   \n",
       "\n",
       "   Similarity Score  \n",
       "0          0.375127  \n",
       "1          0.296898  \n",
       "2          0.249354  \n",
       "3          0.185940  \n",
       "4          0.148875  \n",
       "5          0.146511  \n",
       "6          0.141136  \n",
       "7          0.138079  \n",
       "8          0.130727  \n",
       "9          0.125090  "
      ]
     },
     "execution_count": 24,
     "metadata": {},
     "output_type": "execute_result"
    }
   ],
   "source": [
    "search('what was the case where cleanup work was done in Woonasquatucket river?')"
   ]
  },
  {
   "cell_type": "code",
   "execution_count": null,
   "id": "b978e977",
   "metadata": {},
   "outputs": [],
   "source": []
  }
 ],
 "metadata": {
  "kernelspec": {
   "display_name": "Python 3 (ipykernel)",
   "language": "python",
   "name": "python3"
  },
  "language_info": {
   "codemirror_mode": {
    "name": "ipython",
    "version": 3
   },
   "file_extension": ".py",
   "mimetype": "text/x-python",
   "name": "python",
   "nbconvert_exporter": "python",
   "pygments_lexer": "ipython3",
   "version": "3.9.13"
  }
 },
 "nbformat": 4,
 "nbformat_minor": 5
}
